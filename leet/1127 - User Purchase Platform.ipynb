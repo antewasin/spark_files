{
 "cells": [
  {
   "cell_type": "code",
   "execution_count": 0,
   "metadata": {
    "application/vnd.databricks.v1+cell": {
     "cellMetadata": {
      "byteLimit": 2048000,
      "rowLimit": 10000
     },
     "inputWidgets": {},
     "nuid": "29ddf63b-5581-47f7-93d7-2e6050db31a0",
     "showTitle": false,
     "tableResultSettingsMap": {},
     "title": ""
    }
   },
   "outputs": [],
   "source": [
    "%python\n",
    ""
   ]
  },
  {
   "cell_type": "markdown",
   "metadata": {
    "application/vnd.databricks.v1+cell": {
     "cellMetadata": {},
     "inputWidgets": {},
     "nuid": "5f665237-e98c-41ab-aab2-cbfa0067ebae",
     "showTitle": false,
     "tableResultSettingsMap": {},
     "title": ""
    }
   },
   "source": [
    "%md\n",
    "1127 - User Purchase _Platform_\n",
    "\n",
    "Write a solution to find the total number of users and the total amount spent using the mobile only, the desktop only, and both mobile and desktop together for each date.\n",
    "\n",
    "Return the result table in any order.\n",
    "\n",
    "The result format is in the following example.\n",
    "\n",
    "\n",
    "Explanation: \n",
    "On 2019-07-01, user 1 purchased using both desktop and mobile, user 2 purchased using mobile only and user 3 purchased using desktop only.\n",
    "On 2019-07-02, user 2 purchased using mobile only, user 3 purchased using desktop only and no one purchased using both platforms.\n",
    "\n",
    "https://leetcode.ca/2018-12-31-1127-User-Purchase-Platform/"
   ]
  },
  {
   "cell_type": "code",
   "execution_count": 0,
   "metadata": {
    "application/vnd.databricks.v1+cell": {
     "cellMetadata": {
      "byteLimit": 2048000,
      "rowLimit": 10000
     },
     "inputWidgets": {},
     "nuid": "90db3add-c9ef-454c-9e18-1939d615d4ae",
     "showTitle": false,
     "tableResultSettingsMap": {},
     "title": ""
    }
   },
   "outputs": [
    {
     "output_type": "display_data",
     "data": {
      "text/html": [
       "<style scoped>\n",
       "  .table-result-container {\n",
       "    max-height: 300px;\n",
       "    overflow: auto;\n",
       "  }\n",
       "  table, th, td {\n",
       "    border: 1px solid black;\n",
       "    border-collapse: collapse;\n",
       "  }\n",
       "  th, td {\n",
       "    padding: 5px;\n",
       "  }\n",
       "  th {\n",
       "    text-align: left;\n",
       "  }\n",
       "</style><div class='table-result-container'><table class='table-result'><thead style='background-color: white'><tr></tr></thead><tbody></tbody></table></div>"
      ]
     },
     "metadata": {
      "application/vnd.databricks.v1+output": {
       "addedWidgets": {},
       "aggData": [],
       "aggError": "",
       "aggOverflow": false,
       "aggSchema": [],
       "aggSeriesLimitReached": false,
       "aggType": "",
       "arguments": {},
       "columnCustomDisplayInfos": {},
       "data": [],
       "datasetInfos": [],
       "dbfsResultPath": null,
       "isJsonSchema": true,
       "metadata": {
        "isDbfsCommandResult": false
       },
       "overflow": false,
       "plotOptions": {
        "customPlotOptions": {},
        "displayType": "table",
        "pivotAggregation": null,
        "pivotColumns": null,
        "xColumns": null,
        "yColumns": null
       },
       "removedWidgets": [],
       "schema": [],
       "type": "table"
      }
     },
     "output_type": "display_data"
    }
   ],
   "source": [
    "create schema leet"
   ]
  },
  {
   "cell_type": "code",
   "execution_count": 0,
   "metadata": {
    "application/vnd.databricks.v1+cell": {
     "cellMetadata": {
      "byteLimit": 2048000,
      "rowLimit": 10000
     },
     "inputWidgets": {},
     "nuid": "0347a5ae-7234-4a70-9df5-e59197d92e49",
     "showTitle": false,
     "tableResultSettingsMap": {},
     "title": ""
    }
   },
   "outputs": [
    {
     "output_type": "display_data",
     "data": {
      "text/html": [
       "<style scoped>\n",
       "  .table-result-container {\n",
       "    max-height: 300px;\n",
       "    overflow: auto;\n",
       "  }\n",
       "  table, th, td {\n",
       "    border: 1px solid black;\n",
       "    border-collapse: collapse;\n",
       "  }\n",
       "  th, td {\n",
       "    padding: 5px;\n",
       "  }\n",
       "  th {\n",
       "    text-align: left;\n",
       "  }\n",
       "</style><div class='table-result-container'><table class='table-result'><thead style='background-color: white'><tr><th>num_affected_rows</th><th>num_inserted_rows</th></tr></thead><tbody><tr><td>6</td><td>6</td></tr></tbody></table></div>"
      ]
     },
     "metadata": {
      "application/vnd.databricks.v1+output": {
       "addedWidgets": {},
       "aggData": [],
       "aggError": "",
       "aggOverflow": false,
       "aggSchema": [],
       "aggSeriesLimitReached": false,
       "aggType": "",
       "arguments": {},
       "columnCustomDisplayInfos": {},
       "data": [
        [
         6,
         6
        ]
       ],
       "datasetInfos": [],
       "dbfsResultPath": null,
       "isJsonSchema": true,
       "metadata": {
        "isDbfsCommandResult": false
       },
       "overflow": false,
       "plotOptions": {
        "customPlotOptions": {},
        "displayType": "table",
        "pivotAggregation": null,
        "pivotColumns": null,
        "xColumns": null,
        "yColumns": null
       },
       "removedWidgets": [],
       "schema": [
        {
         "metadata": "{}",
         "name": "num_affected_rows",
         "type": "\"long\""
        },
        {
         "metadata": "{}",
         "name": "num_inserted_rows",
         "type": "\"long\""
        }
       ],
       "type": "table"
      }
     },
     "output_type": "display_data"
    }
   ],
   "source": [
    "CREATE TABLE leet.user_spend (\n",
    "    user_id INT,\n",
    "    spend_date DATE,\n",
    "    platform STRING,\n",
    "    amount INT\n",
    ")\n",
    "USING DELTA;\n",
    "\n",
    "-- Insert data into the Delta table\n",
    "INSERT INTO leet.user_spend VALUES\n",
    "    (1, '2019-07-01', 'mobile', 100),\n",
    "    (1, '2019-07-01', 'desktop', 100),\n",
    "    (2, '2019-07-01', 'mobile', 100),\n",
    "    (2, '2019-07-02', 'mobile', 100),\n",
    "    (3, '2019-07-01', 'desktop', 100),\n",
    "    (3, '2019-07-02', 'desktop', 100);"
   ]
  },
  {
   "cell_type": "code",
   "execution_count": 0,
   "metadata": {
    "application/vnd.databricks.v1+cell": {
     "cellMetadata": {
      "byteLimit": 2048000,
      "rowLimit": 10000
     },
     "inputWidgets": {},
     "nuid": "9ed986c7-0e9a-45b8-a4da-d12f19f3ecd8",
     "showTitle": false,
     "tableResultSettingsMap": {},
     "title": ""
    }
   },
   "outputs": [
    {
     "output_type": "display_data",
     "data": {
      "text/html": [
       "<style scoped>\n",
       "  .table-result-container {\n",
       "    max-height: 300px;\n",
       "    overflow: auto;\n",
       "  }\n",
       "  table, th, td {\n",
       "    border: 1px solid black;\n",
       "    border-collapse: collapse;\n",
       "  }\n",
       "  th, td {\n",
       "    padding: 5px;\n",
       "  }\n",
       "  th {\n",
       "    text-align: left;\n",
       "  }\n",
       "</style><div class='table-result-container'><table class='table-result'><thead style='background-color: white'><tr><th>user_id</th><th>spend_date</th><th>platform</th><th>amount</th></tr></thead><tbody><tr><td>1</td><td>2019-07-01</td><td>mobile</td><td>100</td></tr><tr><td>1</td><td>2019-07-01</td><td>desktop</td><td>100</td></tr><tr><td>2</td><td>2019-07-01</td><td>mobile</td><td>100</td></tr><tr><td>2</td><td>2019-07-02</td><td>mobile</td><td>100</td></tr><tr><td>3</td><td>2019-07-01</td><td>desktop</td><td>100</td></tr><tr><td>3</td><td>2019-07-02</td><td>desktop</td><td>100</td></tr></tbody></table></div>"
      ]
     },
     "metadata": {
      "application/vnd.databricks.v1+output": {
       "addedWidgets": {},
       "aggData": [],
       "aggError": "",
       "aggOverflow": false,
       "aggSchema": [],
       "aggSeriesLimitReached": false,
       "aggType": "",
       "arguments": {},
       "columnCustomDisplayInfos": {},
       "data": [
        [
         1,
         "2019-07-01",
         "mobile",
         100
        ],
        [
         1,
         "2019-07-01",
         "desktop",
         100
        ],
        [
         2,
         "2019-07-01",
         "mobile",
         100
        ],
        [
         2,
         "2019-07-02",
         "mobile",
         100
        ],
        [
         3,
         "2019-07-01",
         "desktop",
         100
        ],
        [
         3,
         "2019-07-02",
         "desktop",
         100
        ]
       ],
       "datasetInfos": [],
       "dbfsResultPath": null,
       "isJsonSchema": true,
       "metadata": {
        "isDbfsCommandResult": false
       },
       "overflow": false,
       "plotOptions": {
        "customPlotOptions": {},
        "displayType": "table",
        "pivotAggregation": null,
        "pivotColumns": null,
        "xColumns": null,
        "yColumns": null
       },
       "removedWidgets": [],
       "schema": [
        {
         "metadata": "{}",
         "name": "user_id",
         "type": "\"integer\""
        },
        {
         "metadata": "{}",
         "name": "spend_date",
         "type": "\"date\""
        },
        {
         "metadata": "{}",
         "name": "platform",
         "type": "\"string\""
        },
        {
         "metadata": "{}",
         "name": "amount",
         "type": "\"integer\""
        }
       ],
       "type": "table"
      }
     },
     "output_type": "display_data"
    }
   ],
   "source": [
    "select * from leet.user_spend"
   ]
  },
  {
   "cell_type": "code",
   "execution_count": 0,
   "metadata": {
    "application/vnd.databricks.v1+cell": {
     "cellMetadata": {
      "byteLimit": 2048000,
      "rowLimit": 10000
     },
     "inputWidgets": {},
     "nuid": "6bc8f9fb-f1a7-4e1b-bcbb-bcf2b305848b",
     "showTitle": false,
     "tableResultSettingsMap": {},
     "title": ""
    }
   },
   "outputs": [
    {
     "output_type": "display_data",
     "data": {
      "text/html": [
       "<style scoped>\n",
       "  .table-result-container {\n",
       "    max-height: 300px;\n",
       "    overflow: auto;\n",
       "  }\n",
       "  table, th, td {\n",
       "    border: 1px solid black;\n",
       "    border-collapse: collapse;\n",
       "  }\n",
       "  th, td {\n",
       "    padding: 5px;\n",
       "  }\n",
       "  th {\n",
       "    text-align: left;\n",
       "  }\n",
       "</style><div class='table-result-container'><table class='table-result'><thead style='background-color: white'><tr><th>col_name</th><th>data_type</th><th>comment</th></tr></thead><tbody><tr><td>user_id</td><td>int</td><td>null</td></tr><tr><td>spend_date</td><td>date</td><td>null</td></tr><tr><td>platform</td><td>string</td><td>null</td></tr><tr><td>amount</td><td>int</td><td>null</td></tr></tbody></table></div>"
      ]
     },
     "metadata": {
      "application/vnd.databricks.v1+output": {
       "addedWidgets": {},
       "aggData": [],
       "aggError": "",
       "aggOverflow": false,
       "aggSchema": [],
       "aggSeriesLimitReached": false,
       "aggType": "",
       "arguments": {},
       "columnCustomDisplayInfos": {},
       "data": [
        [
         "user_id",
         "int",
         null
        ],
        [
         "spend_date",
         "date",
         null
        ],
        [
         "platform",
         "string",
         null
        ],
        [
         "amount",
         "int",
         null
        ]
       ],
       "datasetInfos": [],
       "dbfsResultPath": null,
       "isJsonSchema": true,
       "metadata": {
        "isDbfsCommandResult": false
       },
       "overflow": false,
       "plotOptions": {
        "customPlotOptions": {},
        "displayType": "table",
        "pivotAggregation": null,
        "pivotColumns": null,
        "xColumns": null,
        "yColumns": null
       },
       "removedWidgets": [],
       "schema": [
        {
         "metadata": "{\"comment\":\"name of the column\"}",
         "name": "col_name",
         "type": "\"string\""
        },
        {
         "metadata": "{\"comment\":\"data type of the column\"}",
         "name": "data_type",
         "type": "\"string\""
        },
        {
         "metadata": "{\"comment\":\"comment of the column\"}",
         "name": "comment",
         "type": "\"string\""
        }
       ],
       "type": "table"
      }
     },
     "output_type": "display_data"
    }
   ],
   "source": [
    "describe leet.user_spend"
   ]
  },
  {
   "cell_type": "markdown",
   "metadata": {
    "application/vnd.databricks.v1+cell": {
     "cellMetadata": {},
     "inputWidgets": {},
     "nuid": "5482335b-a061-496f-ae6b-113df817b3b4",
     "showTitle": false,
     "tableResultSettingsMap": {},
     "title": ""
    }
   },
   "source": [
    "- Group by and aggragation of string columns"
   ]
  },
  {
   "cell_type": "code",
   "execution_count": 0,
   "metadata": {
    "application/vnd.databricks.v1+cell": {
     "cellMetadata": {
      "byteLimit": 2048000,
      "rowLimit": 10000
     },
     "inputWidgets": {},
     "nuid": "de5f2ae6-d388-4461-bd49-4550bedd9c9e",
     "showTitle": false,
     "tableResultSettingsMap": {},
     "title": ""
    }
   },
   "outputs": [
    {
     "output_type": "display_data",
     "data": {
      "text/html": [
       "<style scoped>\n",
       "  .table-result-container {\n",
       "    max-height: 300px;\n",
       "    overflow: auto;\n",
       "  }\n",
       "  table, th, td {\n",
       "    border: 1px solid black;\n",
       "    border-collapse: collapse;\n",
       "  }\n",
       "  th, td {\n",
       "    padding: 5px;\n",
       "  }\n",
       "  th {\n",
       "    text-align: left;\n",
       "  }\n",
       "</style><div class='table-result-container'><table class='table-result'><thead style='background-color: white'><tr><th>spend_date</th><th>platform</th><th>amount</th><th>array_join(collect_list(user_id), ,)</th></tr></thead><tbody><tr><td>2019-07-02</td><td>desktop</td><td>100</td><td>3</td></tr><tr><td>2019-07-01</td><td>mobile</td><td>100</td><td>1,2</td></tr><tr><td>2019-07-02</td><td>mobile</td><td>100</td><td>2</td></tr><tr><td>2019-07-01</td><td>desktop</td><td>100</td><td>1,3</td></tr></tbody></table></div>"
      ]
     },
     "metadata": {
      "application/vnd.databricks.v1+output": {
       "addedWidgets": {},
       "aggData": [],
       "aggError": "",
       "aggOverflow": false,
       "aggSchema": [],
       "aggSeriesLimitReached": false,
       "aggType": "",
       "arguments": {},
       "columnCustomDisplayInfos": {},
       "data": [
        [
         "2019-07-02",
         "desktop",
         100,
         "3"
        ],
        [
         "2019-07-01",
         "mobile",
         100,
         "1,2"
        ],
        [
         "2019-07-02",
         "mobile",
         100,
         "2"
        ],
        [
         "2019-07-01",
         "desktop",
         100,
         "1,3"
        ]
       ],
       "datasetInfos": [],
       "dbfsResultPath": null,
       "isJsonSchema": true,
       "metadata": {
        "isDbfsCommandResult": false
       },
       "overflow": false,
       "plotOptions": {
        "customPlotOptions": {},
        "displayType": "table",
        "pivotAggregation": null,
        "pivotColumns": null,
        "xColumns": null,
        "yColumns": null
       },
       "removedWidgets": [],
       "schema": [
        {
         "metadata": "{}",
         "name": "spend_date",
         "type": "\"date\""
        },
        {
         "metadata": "{}",
         "name": "platform",
         "type": "\"string\""
        },
        {
         "metadata": "{}",
         "name": "amount",
         "type": "\"integer\""
        },
        {
         "metadata": "{\"__autoGeneratedAlias\":\"true\"}",
         "name": "array_join(collect_list(user_id), ,)",
         "type": "\"string\""
        }
       ],
       "type": "table"
      }
     },
     "output_type": "display_data"
    }
   ],
   "source": [
    "select \n",
    "  spend_date,\n",
    "  platform,\n",
    "  amount,\n",
    "  array_join(collect_list(user_id),',')\n",
    "from leet.user_spend\n",
    "group by\n",
    "  spend_date,\n",
    "  platform,\n",
    "  amount"
   ]
  },
  {
   "cell_type": "code",
   "execution_count": 0,
   "metadata": {
    "application/vnd.databricks.v1+cell": {
     "cellMetadata": {
      "byteLimit": 2048000,
      "rowLimit": 10000
     },
     "inputWidgets": {},
     "nuid": "9f5ddefb-bba0-4376-ab1d-e572a21614cc",
     "showTitle": false,
     "tableResultSettingsMap": {},
     "title": ""
    }
   },
   "outputs": [
    {
     "output_type": "display_data",
     "data": {
      "text/html": [
       "<style scoped>\n",
       "  .table-result-container {\n",
       "    max-height: 300px;\n",
       "    overflow: auto;\n",
       "  }\n",
       "  table, th, td {\n",
       "    border: 1px solid black;\n",
       "    border-collapse: collapse;\n",
       "  }\n",
       "  th, td {\n",
       "    padding: 5px;\n",
       "  }\n",
       "  th {\n",
       "    text-align: left;\n",
       "  }\n",
       "</style><div class='table-result-container'><table class='table-result'><thead style='background-color: white'><tr><th>user_id</th><th>spend_date</th><th>amount</th><th>array_join(collect_list(platform), ,)</th></tr></thead><tbody><tr><td>2</td><td>2019-07-01</td><td>100</td><td>mobile</td></tr><tr><td>3</td><td>2019-07-01</td><td>100</td><td>desktop</td></tr><tr><td>2</td><td>2019-07-02</td><td>100</td><td>mobile</td></tr><tr><td>3</td><td>2019-07-02</td><td>100</td><td>desktop</td></tr><tr><td>1</td><td>2019-07-01</td><td>100</td><td>mobile,desktop</td></tr></tbody></table></div>"
      ]
     },
     "metadata": {
      "application/vnd.databricks.v1+output": {
       "addedWidgets": {},
       "aggData": [],
       "aggError": "",
       "aggOverflow": false,
       "aggSchema": [],
       "aggSeriesLimitReached": false,
       "aggType": "",
       "arguments": {},
       "columnCustomDisplayInfos": {},
       "data": [
        [
         2,
         "2019-07-01",
         100,
         "mobile"
        ],
        [
         3,
         "2019-07-01",
         100,
         "desktop"
        ],
        [
         2,
         "2019-07-02",
         100,
         "mobile"
        ],
        [
         3,
         "2019-07-02",
         100,
         "desktop"
        ],
        [
         1,
         "2019-07-01",
         100,
         "mobile,desktop"
        ]
       ],
       "datasetInfos": [],
       "dbfsResultPath": null,
       "isJsonSchema": true,
       "metadata": {
        "isDbfsCommandResult": false
       },
       "overflow": false,
       "plotOptions": {
        "customPlotOptions": {},
        "displayType": "table",
        "pivotAggregation": null,
        "pivotColumns": null,
        "xColumns": null,
        "yColumns": null
       },
       "removedWidgets": [],
       "schema": [
        {
         "metadata": "{}",
         "name": "user_id",
         "type": "\"integer\""
        },
        {
         "metadata": "{}",
         "name": "spend_date",
         "type": "\"date\""
        },
        {
         "metadata": "{}",
         "name": "amount",
         "type": "\"integer\""
        },
        {
         "metadata": "{\"__autoGeneratedAlias\":\"true\"}",
         "name": "array_join(collect_list(platform), ,)",
         "type": "\"string\""
        }
       ],
       "type": "table"
      }
     },
     "output_type": "display_data"
    }
   ],
   "source": [
    "with c1 as (\n",
    "  select \n",
    "  user_id,\n",
    "  spend_date,\n",
    "  amount,\n",
    "  array_join(collect_list(platform),',')\n",
    "from leet.user_spend\n",
    "group by\n",
    "user_id,\n",
    "  spend_date,\n",
    "  amount\n",
    ")\n",
    "select * from c1"
   ]
  },
  {
   "cell_type": "code",
   "execution_count": 0,
   "metadata": {
    "application/vnd.databricks.v1+cell": {
     "cellMetadata": {
      "byteLimit": 2048000,
      "rowLimit": 10000
     },
     "inputWidgets": {},
     "nuid": "b9cfc0d6-5140-4b55-912b-6d48e647f1f7",
     "showTitle": false,
     "tableResultSettingsMap": {},
     "title": ""
    }
   },
   "outputs": [
    {
     "output_type": "display_data",
     "data": {
      "text/html": [
       "<style scoped>\n",
       "  .table-result-container {\n",
       "    max-height: 300px;\n",
       "    overflow: auto;\n",
       "  }\n",
       "  table, th, td {\n",
       "    border: 1px solid black;\n",
       "    border-collapse: collapse;\n",
       "  }\n",
       "  th, td {\n",
       "    padding: 5px;\n",
       "  }\n",
       "  th {\n",
       "    text-align: left;\n",
       "  }\n",
       "</style><div class='table-result-container'><table class='table-result'><thead style='background-color: white'><tr><th>spend_date</th><th>platform</th></tr></thead><tbody><tr><td>2019-07-01</td><td>both</td></tr><tr><td>2019-07-02</td><td>both</td></tr><tr><td>2019-07-01</td><td>desktop</td></tr><tr><td>2019-07-02</td><td>desktop</td></tr><tr><td>2019-07-01</td><td>mobile</td></tr><tr><td>2019-07-02</td><td>mobile</td></tr></tbody></table></div>"
      ]
     },
     "metadata": {
      "application/vnd.databricks.v1+output": {
       "addedWidgets": {},
       "aggData": [],
       "aggError": "",
       "aggOverflow": false,
       "aggSchema": [],
       "aggSeriesLimitReached": false,
       "aggType": "",
       "arguments": {},
       "columnCustomDisplayInfos": {},
       "data": [
        [
         "2019-07-01",
         "both"
        ],
        [
         "2019-07-02",
         "both"
        ],
        [
         "2019-07-01",
         "desktop"
        ],
        [
         "2019-07-02",
         "desktop"
        ],
        [
         "2019-07-01",
         "mobile"
        ],
        [
         "2019-07-02",
         "mobile"
        ]
       ],
       "datasetInfos": [],
       "dbfsResultPath": null,
       "isJsonSchema": true,
       "metadata": {
        "isDbfsCommandResult": false
       },
       "overflow": false,
       "plotOptions": {
        "customPlotOptions": {},
        "displayType": "table",
        "pivotAggregation": null,
        "pivotColumns": null,
        "xColumns": null,
        "yColumns": null
       },
       "removedWidgets": [],
       "schema": [
        {
         "metadata": "{}",
         "name": "spend_date",
         "type": "\"date\""
        },
        {
         "metadata": "{}",
         "name": "platform",
         "type": "\"string\""
        }
       ],
       "type": "table"
      }
     },
     "output_type": "display_data"
    }
   ],
   "source": [
    "with cu as (\n",
    "  select distinct  spend_date, 'both' as platform from leet.user_spend\n",
    "  union\n",
    "  select distinct  spend_date, 'desktop' as platform from leet.user_spend\n",
    "  union \n",
    "  select distinct  spend_date, 'mobile' as platform from leet.user_spend\n",
    ")\n",
    "select * from cu"
   ]
  },
  {
   "cell_type": "code",
   "execution_count": 0,
   "metadata": {
    "application/vnd.databricks.v1+cell": {
     "cellMetadata": {
      "byteLimit": 2048000,
      "rowLimit": 10000
     },
     "inputWidgets": {},
     "nuid": "2de547eb-872e-4e42-adee-e36b7cfad8fb",
     "showTitle": false,
     "tableResultSettingsMap": {},
     "title": ""
    }
   },
   "outputs": [
    {
     "output_type": "display_data",
     "data": {
      "text/html": [
       "<style scoped>\n",
       "  .table-result-container {\n",
       "    max-height: 300px;\n",
       "    overflow: auto;\n",
       "  }\n",
       "  table, th, td {\n",
       "    border: 1px solid black;\n",
       "    border-collapse: collapse;\n",
       "  }\n",
       "  th, td {\n",
       "    padding: 5px;\n",
       "  }\n",
       "  th {\n",
       "    text-align: left;\n",
       "  }\n",
       "</style><div class='table-result-container'><table class='table-result'><thead style='background-color: white'><tr><th>spend_date</th><th>platform</th><th>ifnull(amount1, 0)</th><th>approx_count_distinct(user_id)</th></tr></thead><tbody><tr><td>2019-07-01</td><td>both</td><td>200</td><td>1</td></tr><tr><td>2019-07-02</td><td>both</td><td>0</td><td>0</td></tr><tr><td>2019-07-01</td><td>desktop</td><td>100</td><td>1</td></tr><tr><td>2019-07-02</td><td>desktop</td><td>100</td><td>1</td></tr><tr><td>2019-07-01</td><td>mobile</td><td>100</td><td>1</td></tr><tr><td>2019-07-02</td><td>mobile</td><td>100</td><td>1</td></tr></tbody></table></div>"
      ]
     },
     "metadata": {
      "application/vnd.databricks.v1+output": {
       "addedWidgets": {},
       "aggData": [],
       "aggError": "",
       "aggOverflow": false,
       "aggSchema": [],
       "aggSeriesLimitReached": false,
       "aggType": "",
       "arguments": {},
       "columnCustomDisplayInfos": {},
       "data": [
        [
         "2019-07-01",
         "both",
         200,
         1
        ],
        [
         "2019-07-02",
         "both",
         0,
         0
        ],
        [
         "2019-07-01",
         "desktop",
         100,
         1
        ],
        [
         "2019-07-02",
         "desktop",
         100,
         1
        ],
        [
         "2019-07-01",
         "mobile",
         100,
         1
        ],
        [
         "2019-07-02",
         "mobile",
         100,
         1
        ]
       ],
       "datasetInfos": [],
       "dbfsResultPath": null,
       "isJsonSchema": true,
       "metadata": {
        "isDbfsCommandResult": false
       },
       "overflow": false,
       "plotOptions": {
        "customPlotOptions": {},
        "displayType": "table",
        "pivotAggregation": null,
        "pivotColumns": null,
        "xColumns": null,
        "yColumns": null
       },
       "removedWidgets": [],
       "schema": [
        {
         "metadata": "{}",
         "name": "spend_date",
         "type": "\"date\""
        },
        {
         "metadata": "{}",
         "name": "platform",
         "type": "\"string\""
        },
        {
         "metadata": "{\"__autoGeneratedAlias\":\"true\"}",
         "name": "ifnull(amount1, 0)",
         "type": "\"long\""
        },
        {
         "metadata": "{\"__autoGeneratedAlias\":\"true\"}",
         "name": "approx_count_distinct(user_id)",
         "type": "\"long\""
        }
       ],
       "type": "table"
      }
     },
     "output_type": "display_data"
    }
   ],
   "source": [
    "\n",
    "with cu as\n",
    "  (select distinct spend_date,\n",
    "                   'both' as platform\n",
    "   from leet.user_spend\n",
    "   union select distinct spend_date,\n",
    "                         'desktop' as platform\n",
    "   from leet.user_spend\n",
    "   union select distinct spend_date,\n",
    "                         'mobile' as platform\n",
    "   from leet.user_spend),\n",
    "     c1 as\n",
    "  (select user_id,\n",
    "          spend_date,\n",
    "          sum(amount) amount1,\n",
    "          count(platform) cc\n",
    "   from leet.user_spend\n",
    "   group by user_id,\n",
    "            spend_date),\n",
    "     c2 as\n",
    "  (select distinct us.user_id,\n",
    "                   us.spend_date,\n",
    "                   amount1,\n",
    "                   platform,\n",
    "                   cc,\n",
    "                   iff(cc=1, us.platform, 'both') platf\n",
    "   from leet.user_spend us\n",
    "   left join c1 on us.user_id=c1.user_id\n",
    "   and us.spend_date=c1.spend_date)\n",
    "select cu.spend_date,\n",
    "       cu.platform,\n",
    "       ifnull(c2.amount1, 0),\n",
    "       approx_count_distinct(user_id)\n",
    "from cu\n",
    "left join c2 on cu.spend_date=c2.spend_date\n",
    "and cu.platform=c2.platf\n",
    "group by cu.spend_date,\n",
    "         cu.platform,\n",
    "         c2.amount1\n",
    "\n"
   ]
  },
  {
   "cell_type": "code",
   "execution_count": 0,
   "metadata": {
    "application/vnd.databricks.v1+cell": {
     "cellMetadata": {},
     "inputWidgets": {},
     "nuid": "284af25e-b13a-400e-8f85-9c35f75df912",
     "showTitle": false,
     "tableResultSettingsMap": {},
     "title": ""
    }
   },
   "outputs": [],
   "source": []
  }
 ],
 "metadata": {
  "application/vnd.databricks.v1+notebook": {
   "computePreferences": null,
   "dashboards": [],
   "environmentMetadata": {
    "base_environment": "",
    "client": "1"
   },
   "language": "sql",
   "notebookMetadata": {
    "pythonIndentUnit": 4
   },
   "notebookName": "1127 - User Purchase Platform",
   "widgets": {}
  },
  "language_info": {
   "name": "sql"
  }
 },
 "nbformat": 4,
 "nbformat_minor": 0
}
