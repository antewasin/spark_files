{
 "cells": [
  {
   "cell_type": "code",
   "execution_count": 0,
   "metadata": {
    "application/vnd.databricks.v1+cell": {
     "cellMetadata": {
      "byteLimit": 2048000,
      "rowLimit": 10000
     },
     "inputWidgets": {},
     "nuid": "4b750a45-2424-4d9f-90f3-159bcf86e09e",
     "showTitle": false,
     "tableResultSettingsMap": {},
     "title": ""
    }
   },
   "outputs": [],
   "source": [
    "%python\n",
    "\n",
    ""
   ]
  },
  {
   "cell_type": "code",
   "execution_count": 0,
   "metadata": {
    "application/vnd.databricks.v1+cell": {
     "cellMetadata": {
      "byteLimit": 2048000,
      "rowLimit": 10000
     },
     "inputWidgets": {},
     "nuid": "bb3705ef-eba9-4927-aab2-f5164efbcc16",
     "showTitle": false,
     "tableResultSettingsMap": {},
     "title": ""
    }
   },
   "outputs": [
    {
     "output_type": "display_data",
     "data": {
      "text/html": [
       "<style scoped>\n",
       "  .table-result-container {\n",
       "    max-height: 300px;\n",
       "    overflow: auto;\n",
       "  }\n",
       "  table, th, td {\n",
       "    border: 1px solid black;\n",
       "    border-collapse: collapse;\n",
       "  }\n",
       "  th, td {\n",
       "    padding: 5px;\n",
       "  }\n",
       "  th {\n",
       "    text-align: left;\n",
       "  }\n",
       "</style><div class='table-result-container'><table class='table-result'><thead style='background-color: white'><tr><th>id</th><th>name</th><th>type1</th><th>type2</th><th>total</th><th>hp</th><th>attack</th><th>defense</th><th>speed</th><th>region</th></tr></thead><tbody><tr><td>1</td><td>Bulbasaur</td><td>Grass</td><td>Poison</td><td>318</td><td>45</td><td>49</td><td>49</td><td>45</td><td>Kanto</td></tr><tr><td>2</td><td>Ivysaur</td><td>Grass</td><td>Poison</td><td>405</td><td>60</td><td>62</td><td>63</td><td>60</td><td>Kanto</td></tr><tr><td>3</td><td>Venusaur</td><td>Grass</td><td>Poison</td><td>525</td><td>80</td><td>82</td><td>83</td><td>80</td><td>Kanto</td></tr><tr><td>4</td><td>Charmander</td><td>Fire</td><td>null</td><td>309</td><td>39</td><td>52</td><td>43</td><td>65</td><td>Kanto</td></tr><tr><td>5</td><td>Charmeleon</td><td>Fire</td><td>null</td><td>405</td><td>58</td><td>64</td><td>58</td><td>80</td><td>Kanto</td></tr><tr><td>6</td><td>Charizard</td><td>Fire</td><td>Flying</td><td>534</td><td>78</td><td>84</td><td>78</td><td>100</td><td>Kanto</td></tr><tr><td>7</td><td>Squirtle</td><td>Water</td><td>null</td><td>314</td><td>44</td><td>48</td><td>65</td><td>43</td><td>Kanto</td></tr><tr><td>8</td><td>Wartortle</td><td>Water</td><td>null</td><td>405</td><td>59</td><td>63</td><td>80</td><td>58</td><td>Kanto</td></tr><tr><td>9</td><td>Blastoise</td><td>Water</td><td>null</td><td>530</td><td>79</td><td>83</td><td>100</td><td>78</td><td>Kanto</td></tr><tr><td>10</td><td>Pikachu</td><td>Electric</td><td>null</td><td>320</td><td>35</td><td>55</td><td>40</td><td>90</td><td>Kanto</td></tr><tr><td>11</td><td>Jigglypuff</td><td>Fairy</td><td>Normal</td><td>270</td><td>115</td><td>45</td><td>20</td><td>20</td><td>Kanto</td></tr><tr><td>12</td><td>Zubat</td><td>Poison</td><td>Flying</td><td>245</td><td>40</td><td>45</td><td>35</td><td>55</td><td>Kanto</td></tr><tr><td>13</td><td>Golbat</td><td>Poison</td><td>Flying</td><td>455</td><td>75</td><td>80</td><td>70</td><td>90</td><td>Kanto</td></tr><tr><td>14</td><td>Oddish</td><td>Grass</td><td>Poison</td><td>320</td><td>45</td><td>50</td><td>55</td><td>30</td><td>Kanto</td></tr><tr><td>15</td><td>Gloom</td><td>Grass</td><td>Poison</td><td>395</td><td>60</td><td>65</td><td>70</td><td>40</td><td>Kanto</td></tr><tr><td>16</td><td>Vileplume</td><td>Grass</td><td>Poison</td><td>490</td><td>75</td><td>80</td><td>85</td><td>50</td><td>Kanto</td></tr></tbody></table></div>"
      ]
     },
     "metadata": {
      "application/vnd.databricks.v1+output": {
       "addedWidgets": {},
       "aggData": [],
       "aggError": "",
       "aggOverflow": false,
       "aggSchema": [],
       "aggSeriesLimitReached": false,
       "aggType": "",
       "arguments": {},
       "columnCustomDisplayInfos": {},
       "data": [
        [
         1,
         "Bulbasaur",
         "Grass",
         "Poison",
         318,
         45,
         49,
         49,
         45,
         "Kanto"
        ],
        [
         2,
         "Ivysaur",
         "Grass",
         "Poison",
         405,
         60,
         62,
         63,
         60,
         "Kanto"
        ],
        [
         3,
         "Venusaur",
         "Grass",
         "Poison",
         525,
         80,
         82,
         83,
         80,
         "Kanto"
        ],
        [
         4,
         "Charmander",
         "Fire",
         null,
         309,
         39,
         52,
         43,
         65,
         "Kanto"
        ],
        [
         5,
         "Charmeleon",
         "Fire",
         null,
         405,
         58,
         64,
         58,
         80,
         "Kanto"
        ],
        [
         6,
         "Charizard",
         "Fire",
         "Flying",
         534,
         78,
         84,
         78,
         100,
         "Kanto"
        ],
        [
         7,
         "Squirtle",
         "Water",
         null,
         314,
         44,
         48,
         65,
         43,
         "Kanto"
        ],
        [
         8,
         "Wartortle",
         "Water",
         null,
         405,
         59,
         63,
         80,
         58,
         "Kanto"
        ],
        [
         9,
         "Blastoise",
         "Water",
         null,
         530,
         79,
         83,
         100,
         78,
         "Kanto"
        ],
        [
         10,
         "Pikachu",
         "Electric",
         null,
         320,
         35,
         55,
         40,
         90,
         "Kanto"
        ],
        [
         11,
         "Jigglypuff",
         "Fairy",
         "Normal",
         270,
         115,
         45,
         20,
         20,
         "Kanto"
        ],
        [
         12,
         "Zubat",
         "Poison",
         "Flying",
         245,
         40,
         45,
         35,
         55,
         "Kanto"
        ],
        [
         13,
         "Golbat",
         "Poison",
         "Flying",
         455,
         75,
         80,
         70,
         90,
         "Kanto"
        ],
        [
         14,
         "Oddish",
         "Grass",
         "Poison",
         320,
         45,
         50,
         55,
         30,
         "Kanto"
        ],
        [
         15,
         "Gloom",
         "Grass",
         "Poison",
         395,
         60,
         65,
         70,
         40,
         "Kanto"
        ],
        [
         16,
         "Vileplume",
         "Grass",
         "Poison",
         490,
         75,
         80,
         85,
         50,
         "Kanto"
        ]
       ],
       "datasetInfos": [],
       "dbfsResultPath": null,
       "isJsonSchema": true,
       "metadata": {
        "isDbfsCommandResult": false
       },
       "overflow": false,
       "plotOptions": {
        "customPlotOptions": {},
        "displayType": "table",
        "pivotAggregation": null,
        "pivotColumns": null,
        "xColumns": null,
        "yColumns": null
       },
       "removedWidgets": [],
       "schema": [
        {
         "metadata": "{}",
         "name": "id",
         "type": "\"integer\""
        },
        {
         "metadata": "{}",
         "name": "name",
         "type": "\"string\""
        },
        {
         "metadata": "{}",
         "name": "type1",
         "type": "\"string\""
        },
        {
         "metadata": "{}",
         "name": "type2",
         "type": "\"string\""
        },
        {
         "metadata": "{}",
         "name": "total",
         "type": "\"integer\""
        },
        {
         "metadata": "{}",
         "name": "hp",
         "type": "\"integer\""
        },
        {
         "metadata": "{}",
         "name": "attack",
         "type": "\"integer\""
        },
        {
         "metadata": "{}",
         "name": "defense",
         "type": "\"integer\""
        },
        {
         "metadata": "{}",
         "name": "speed",
         "type": "\"integer\""
        },
        {
         "metadata": "{}",
         "name": "region",
         "type": "\"string\""
        }
       ],
       "type": "table"
      }
     },
     "output_type": "display_data"
    }
   ],
   "source": [
    "select * from poke.pokemon_data"
   ]
  },
  {
   "cell_type": "markdown",
   "metadata": {
    "application/vnd.databricks.v1+cell": {
     "cellMetadata": {},
     "inputWidgets": {},
     "nuid": "0012e678-3afc-40a9-a72e-e561a353ce11",
     "showTitle": false,
     "tableResultSettingsMap": {},
     "title": ""
    }
   },
   "source": [
    "- Task 1: Use FILTER to Find Pokémon with Attack Greater Than 60, _otherwise the cell should be empty_\n",
    "- Use the FILTER function to find the Pokémon where the attack stat is greater than 60. Return their pokemon_name, attack, and type1."
   ]
  },
  {
   "cell_type": "code",
   "execution_count": 0,
   "metadata": {
    "application/vnd.databricks.v1+cell": {
     "cellMetadata": {
      "byteLimit": 2048000,
      "rowLimit": 10000
     },
     "inputWidgets": {},
     "nuid": "f45229f8-2d9b-47e0-8218-a3b385fd8e76",
     "showTitle": false,
     "tableResultSettingsMap": {},
     "title": ""
    }
   },
   "outputs": [
    {
     "output_type": "display_data",
     "data": {
      "text/html": [
       "<style scoped>\n",
       "  .table-result-container {\n",
       "    max-height: 300px;\n",
       "    overflow: auto;\n",
       "  }\n",
       "  table, th, td {\n",
       "    border: 1px solid black;\n",
       "    border-collapse: collapse;\n",
       "  }\n",
       "  th, td {\n",
       "    padding: 5px;\n",
       "  }\n",
       "  th {\n",
       "    text-align: left;\n",
       "  }\n",
       "</style><div class='table-result-container'><table class='table-result'><thead style='background-color: white'><tr><th>name</th><th>h</th></tr></thead><tbody><tr><td>Bulbasaur</td><td>List(49, 45)</td></tr><tr><td>Ivysaur</td><td>List(62, 60)</td></tr><tr><td>Venusaur</td><td>List()</td></tr><tr><td>Charmander</td><td>List(52, 39)</td></tr><tr><td>Charmeleon</td><td>List(64, 58)</td></tr><tr><td>Charizard</td><td>List(78)</td></tr><tr><td>Squirtle</td><td>List(48, 44)</td></tr><tr><td>Wartortle</td><td>List(63, 59)</td></tr><tr><td>Blastoise</td><td>List()</td></tr><tr><td>Pikachu</td><td>List(55, 35)</td></tr></tbody></table></div>"
      ]
     },
     "metadata": {
      "application/vnd.databricks.v1+output": {
       "addedWidgets": {},
       "aggData": [],
       "aggError": "",
       "aggOverflow": false,
       "aggSchema": [],
       "aggSeriesLimitReached": false,
       "aggType": "",
       "arguments": {},
       "columnCustomDisplayInfos": {},
       "data": [
        [
         "Bulbasaur",
         [
          49,
          45
         ]
        ],
        [
         "Ivysaur",
         [
          62,
          60
         ]
        ],
        [
         "Venusaur",
         []
        ],
        [
         "Charmander",
         [
          52,
          39
         ]
        ],
        [
         "Charmeleon",
         [
          64,
          58
         ]
        ],
        [
         "Charizard",
         [
          78
         ]
        ],
        [
         "Squirtle",
         [
          48,
          44
         ]
        ],
        [
         "Wartortle",
         [
          63,
          59
         ]
        ],
        [
         "Blastoise",
         []
        ],
        [
         "Pikachu",
         [
          55,
          35
         ]
        ]
       ],
       "datasetInfos": [],
       "dbfsResultPath": null,
       "isJsonSchema": true,
       "metadata": {
        "isDbfsCommandResult": false
       },
       "overflow": false,
       "plotOptions": {
        "customPlotOptions": {},
        "displayType": "table",
        "pivotAggregation": null,
        "pivotColumns": null,
        "xColumns": null,
        "yColumns": null
       },
       "removedWidgets": [],
       "schema": [
        {
         "metadata": "{}",
         "name": "name",
         "type": "\"string\""
        },
        {
         "metadata": "{}",
         "name": "h",
         "type": "{\"type\":\"array\",\"elementType\":\"integer\",\"containsNull\":true}"
        }
       ],
       "type": "table"
      }
     },
     "output_type": "display_data"
    }
   ],
   "source": [
    "select name, filter(array(attack, hp), x -> x<79) as h from poke.pokemon_data\n",
    "limit 10\n"
   ]
  },
  {
   "cell_type": "code",
   "execution_count": 0,
   "metadata": {
    "application/vnd.databricks.v1+cell": {
     "cellMetadata": {
      "byteLimit": 2048000,
      "rowLimit": 10000
     },
     "inputWidgets": {},
     "nuid": "d181a786-1b89-4e35-a81f-915011ae0ddd",
     "showTitle": false,
     "tableResultSettingsMap": {},
     "title": ""
    }
   },
   "outputs": [
    {
     "output_type": "display_data",
     "data": {
      "text/html": [
       "<style scoped>\n",
       "  .table-result-container {\n",
       "    max-height: 300px;\n",
       "    overflow: auto;\n",
       "  }\n",
       "  table, th, td {\n",
       "    border: 1px solid black;\n",
       "    border-collapse: collapse;\n",
       "  }\n",
       "  th, td {\n",
       "    padding: 5px;\n",
       "  }\n",
       "  th {\n",
       "    text-align: left;\n",
       "  }\n",
       "</style><div class='table-result-container'><table class='table-result'><thead style='background-color: white'><tr><th>name</th><th>h</th></tr></thead><tbody><tr><td>Bulbasaur</td><td>List(49)</td></tr><tr><td>Ivysaur</td><td>List(62, 60)</td></tr><tr><td>Venusaur</td><td>List(82, 80)</td></tr><tr><td>Charmander</td><td>List(52)</td></tr><tr><td>Charmeleon</td><td>List(64, 58)</td></tr><tr><td>Charizard</td><td>List(84, 78)</td></tr><tr><td>Squirtle</td><td>List(48)</td></tr><tr><td>Wartortle</td><td>List(63, 59)</td></tr><tr><td>Blastoise</td><td>List(83, 79)</td></tr><tr><td>Pikachu</td><td>List(55)</td></tr></tbody></table></div>"
      ]
     },
     "metadata": {
      "application/vnd.databricks.v1+output": {
       "addedWidgets": {},
       "aggData": [],
       "aggError": "",
       "aggOverflow": false,
       "aggSchema": [],
       "aggSeriesLimitReached": false,
       "aggType": "",
       "arguments": {},
       "columnCustomDisplayInfos": {},
       "data": [
        [
         "Bulbasaur",
         [
          49
         ]
        ],
        [
         "Ivysaur",
         [
          62,
          60
         ]
        ],
        [
         "Venusaur",
         [
          82,
          80
         ]
        ],
        [
         "Charmander",
         [
          52
         ]
        ],
        [
         "Charmeleon",
         [
          64,
          58
         ]
        ],
        [
         "Charizard",
         [
          84,
          78
         ]
        ],
        [
         "Squirtle",
         [
          48
         ]
        ],
        [
         "Wartortle",
         [
          63,
          59
         ]
        ],
        [
         "Blastoise",
         [
          83,
          79
         ]
        ],
        [
         "Pikachu",
         [
          55
         ]
        ]
       ],
       "datasetInfos": [],
       "dbfsResultPath": null,
       "isJsonSchema": true,
       "metadata": {
        "isDbfsCommandResult": false
       },
       "overflow": false,
       "plotOptions": {
        "customPlotOptions": {},
        "displayType": "table",
        "pivotAggregation": null,
        "pivotColumns": null,
        "xColumns": null,
        "yColumns": null
       },
       "removedWidgets": [],
       "schema": [
        {
         "metadata": "{}",
         "name": "name",
         "type": "\"string\""
        },
        {
         "metadata": "{}",
         "name": "h",
         "type": "{\"type\":\"array\",\"elementType\":\"integer\",\"containsNull\":true}"
        }
       ],
       "type": "table"
      }
     },
     "output_type": "display_data"
    }
   ],
   "source": [
    "select name , filter(array(attack, hp), x -> x>45) as h from poke.pokemon_data\n",
    "limit 10"
   ]
  },
  {
   "cell_type": "code",
   "execution_count": 0,
   "metadata": {
    "application/vnd.databricks.v1+cell": {
     "cellMetadata": {
      "byteLimit": 2048000,
      "rowLimit": 10000
     },
     "inputWidgets": {},
     "nuid": "15bfd6f0-cf95-4334-8f45-8969d4c0a203",
     "showTitle": false,
     "tableResultSettingsMap": {},
     "title": ""
    }
   },
   "outputs": [
    {
     "output_type": "display_data",
     "data": {
      "text/html": [
       "<style scoped>\n",
       "  .table-result-container {\n",
       "    max-height: 300px;\n",
       "    overflow: auto;\n",
       "  }\n",
       "  table, th, td {\n",
       "    border: 1px solid black;\n",
       "    border-collapse: collapse;\n",
       "  }\n",
       "  th, td {\n",
       "    padding: 5px;\n",
       "  }\n",
       "  th {\n",
       "    text-align: left;\n",
       "  }\n",
       "</style><div class='table-result-container'><table class='table-result'><thead style='background-color: white'><tr><th>name</th><th>h</th></tr></thead><tbody><tr><td>Bulbasaur</td><td>List(49)</td></tr><tr><td>Ivysaur</td><td>List()</td></tr><tr><td>Venusaur</td><td>List()</td></tr><tr><td>Charmander</td><td>List(52)</td></tr><tr><td>Charmeleon</td><td>List(58)</td></tr><tr><td>Charizard</td><td>List()</td></tr><tr><td>Squirtle</td><td>List()</td></tr><tr><td>Wartortle</td><td>List(59)</td></tr><tr><td>Blastoise</td><td>List()</td></tr><tr><td>Pikachu</td><td>List(55)</td></tr></tbody></table></div>"
      ]
     },
     "metadata": {
      "application/vnd.databricks.v1+output": {
       "addedWidgets": {},
       "aggData": [],
       "aggError": "",
       "aggOverflow": false,
       "aggSchema": [],
       "aggSeriesLimitReached": false,
       "aggType": "",
       "arguments": {},
       "columnCustomDisplayInfos": {},
       "data": [
        [
         "Bulbasaur",
         [
          49
         ]
        ],
        [
         "Ivysaur",
         []
        ],
        [
         "Venusaur",
         []
        ],
        [
         "Charmander",
         [
          52
         ]
        ],
        [
         "Charmeleon",
         [
          58
         ]
        ],
        [
         "Charizard",
         []
        ],
        [
         "Squirtle",
         []
        ],
        [
         "Wartortle",
         [
          59
         ]
        ],
        [
         "Blastoise",
         []
        ],
        [
         "Pikachu",
         [
          55
         ]
        ]
       ],
       "datasetInfos": [],
       "dbfsResultPath": null,
       "isJsonSchema": true,
       "metadata": {
        "isDbfsCommandResult": false
       },
       "overflow": false,
       "plotOptions": {
        "customPlotOptions": {},
        "displayType": "table",
        "pivotAggregation": null,
        "pivotColumns": null,
        "xColumns": null,
        "yColumns": null
       },
       "removedWidgets": [],
       "schema": [
        {
         "metadata": "{}",
         "name": "name",
         "type": "\"string\""
        },
        {
         "metadata": "{}",
         "name": "h",
         "type": "{\"type\":\"array\",\"elementType\":\"integer\",\"containsNull\":true}"
        }
       ],
       "type": "table"
      }
     },
     "output_type": "display_data"
    }
   ],
   "source": [
    "select name , filter(array(attack, hp), x -> (x>48 and x<60)) as h from poke.pokemon_data\n",
    "limit 10"
   ]
  },
  {
   "cell_type": "markdown",
   "metadata": {
    "application/vnd.databricks.v1+cell": {
     "cellMetadata": {},
     "inputWidgets": {},
     "nuid": "d8040623-2216-4e5c-b0f9-2c4ed3fb4bf0",
     "showTitle": false,
     "tableResultSettingsMap": {},
     "title": ""
    }
   },
   "source": [
    "Task 2: Normalize Stats as Percentages of Total Base Stats"
   ]
  },
  {
   "cell_type": "code",
   "execution_count": 0,
   "metadata": {
    "application/vnd.databricks.v1+cell": {
     "cellMetadata": {
      "byteLimit": 2048000,
      "rowLimit": 10000
     },
     "inputWidgets": {},
     "nuid": "a6627025-140b-445b-a4fc-f496010edbd0",
     "showTitle": false,
     "tableResultSettingsMap": {},
     "title": ""
    }
   },
   "outputs": [
    {
     "output_type": "display_data",
     "data": {
      "text/html": [
       "<style scoped>\n",
       "  .table-result-container {\n",
       "    max-height: 300px;\n",
       "    overflow: auto;\n",
       "  }\n",
       "  table, th, td {\n",
       "    border: 1px solid black;\n",
       "    border-collapse: collapse;\n",
       "  }\n",
       "  th, td {\n",
       "    padding: 5px;\n",
       "  }\n",
       "  th {\n",
       "    text-align: left;\n",
       "  }\n",
       "</style><div class='table-result-container'><table class='table-result'><thead style='background-color: white'><tr><th>name</th><th>h</th></tr></thead><tbody><tr><td>Bulbasaur</td><td>List(0.15, 0.14)</td></tr><tr><td>Ivysaur</td><td>List(0.15, 0.15)</td></tr><tr><td>Venusaur</td><td>List(0.16, 0.15)</td></tr><tr><td>Charmander</td><td>List(0.17, 0.13)</td></tr><tr><td>Charmeleon</td><td>List(0.16, 0.14)</td></tr><tr><td>Charizard</td><td>List(0.16, 0.15)</td></tr><tr><td>Squirtle</td><td>List(0.15, 0.14)</td></tr><tr><td>Wartortle</td><td>List(0.16, 0.15)</td></tr><tr><td>Blastoise</td><td>List(0.16, 0.15)</td></tr><tr><td>Pikachu</td><td>List(0.17, 0.11)</td></tr></tbody></table></div>"
      ]
     },
     "metadata": {
      "application/vnd.databricks.v1+output": {
       "addedWidgets": {},
       "aggData": [],
       "aggError": "",
       "aggOverflow": false,
       "aggSchema": [],
       "aggSeriesLimitReached": false,
       "aggType": "",
       "arguments": {},
       "columnCustomDisplayInfos": {},
       "data": [
        [
         "Bulbasaur",
         [
          0.15,
          0.14
         ]
        ],
        [
         "Ivysaur",
         [
          0.15,
          0.15
         ]
        ],
        [
         "Venusaur",
         [
          0.16,
          0.15
         ]
        ],
        [
         "Charmander",
         [
          0.17,
          0.13
         ]
        ],
        [
         "Charmeleon",
         [
          0.16,
          0.14
         ]
        ],
        [
         "Charizard",
         [
          0.16,
          0.15
         ]
        ],
        [
         "Squirtle",
         [
          0.15,
          0.14
         ]
        ],
        [
         "Wartortle",
         [
          0.16,
          0.15
         ]
        ],
        [
         "Blastoise",
         [
          0.16,
          0.15
         ]
        ],
        [
         "Pikachu",
         [
          0.17,
          0.11
         ]
        ]
       ],
       "datasetInfos": [],
       "dbfsResultPath": null,
       "isJsonSchema": true,
       "metadata": {
        "isDbfsCommandResult": false
       },
       "overflow": false,
       "plotOptions": {
        "customPlotOptions": {},
        "displayType": "table",
        "pivotAggregation": null,
        "pivotColumns": null,
        "xColumns": null,
        "yColumns": null
       },
       "removedWidgets": [],
       "schema": [
        {
         "metadata": "{}",
         "name": "name",
         "type": "\"string\""
        },
        {
         "metadata": "{}",
         "name": "h",
         "type": "{\"type\":\"array\",\"elementType\":\"double\",\"containsNull\":true}"
        }
       ],
       "type": "table"
      }
     },
     "output_type": "display_data"
    }
   ],
   "source": [
    "select name , transform(array(attack, hp), x -> round(x/total,2) ) as h from poke.pokemon_data\n",
    "limit 10"
   ]
  },
  {
   "cell_type": "markdown",
   "metadata": {
    "application/vnd.databricks.v1+cell": {
     "cellMetadata": {},
     "inputWidgets": {},
     "nuid": "f397d1f9-8f93-45ee-a0c4-8c325162532e",
     "showTitle": false,
     "tableResultSettingsMap": {},
     "title": ""
    }
   },
   "source": [
    "- Task 3: Label Stats as Strong or Weak\n",
    "- For each Pokémon, create an array of hp, attack, defense, and speed. Transform each stat to a label:\n",
    "- \n",
    "- \"Strong\" if the stat is ≥ 50.\n",
    "- \"Weak\" if the stat is < 50."
   ]
  },
  {
   "cell_type": "code",
   "execution_count": 0,
   "metadata": {
    "application/vnd.databricks.v1+cell": {
     "cellMetadata": {
      "byteLimit": 2048000,
      "rowLimit": 10000
     },
     "inputWidgets": {},
     "nuid": "c218ae84-b0ab-4104-973a-2247750d4b6d",
     "showTitle": false,
     "tableResultSettingsMap": {},
     "title": ""
    }
   },
   "outputs": [
    {
     "output_type": "display_data",
     "data": {
      "text/html": [
       "<style scoped>\n",
       "  .table-result-container {\n",
       "    max-height: 300px;\n",
       "    overflow: auto;\n",
       "  }\n",
       "  table, th, td {\n",
       "    border: 1px solid black;\n",
       "    border-collapse: collapse;\n",
       "  }\n",
       "  th, td {\n",
       "    padding: 5px;\n",
       "  }\n",
       "  th {\n",
       "    text-align: left;\n",
       "  }\n",
       "</style><div class='table-result-container'><table class='table-result'><thead style='background-color: white'><tr><th>name</th><th>h</th></tr></thead><tbody><tr><td>Bulbasaur</td><td>List(Weak, Weak, Weak, Weak)</td></tr><tr><td>Ivysaur</td><td>List(Strong, Strong, Strong, Strong)</td></tr><tr><td>Venusaur</td><td>List(Strong, Strong, Strong, Strong)</td></tr><tr><td>Charmander</td><td>List(Strong, Weak, Weak, Strong)</td></tr><tr><td>Charmeleon</td><td>List(Strong, Strong, Strong, Strong)</td></tr><tr><td>Charizard</td><td>List(Strong, Strong, Strong, Strong)</td></tr><tr><td>Squirtle</td><td>List(Weak, Weak, Strong, Weak)</td></tr><tr><td>Wartortle</td><td>List(Strong, Strong, Strong, Strong)</td></tr><tr><td>Blastoise</td><td>List(Strong, Strong, Strong, Strong)</td></tr><tr><td>Pikachu</td><td>List(Strong, Weak, Weak, Strong)</td></tr></tbody></table></div>"
      ]
     },
     "metadata": {
      "application/vnd.databricks.v1+output": {
       "addedWidgets": {},
       "aggData": [],
       "aggError": "",
       "aggOverflow": false,
       "aggSchema": [],
       "aggSeriesLimitReached": false,
       "aggType": "",
       "arguments": {},
       "columnCustomDisplayInfos": {},
       "data": [
        [
         "Bulbasaur",
         [
          "Weak",
          "Weak",
          "Weak",
          "Weak"
         ]
        ],
        [
         "Ivysaur",
         [
          "Strong",
          "Strong",
          "Strong",
          "Strong"
         ]
        ],
        [
         "Venusaur",
         [
          "Strong",
          "Strong",
          "Strong",
          "Strong"
         ]
        ],
        [
         "Charmander",
         [
          "Strong",
          "Weak",
          "Weak",
          "Strong"
         ]
        ],
        [
         "Charmeleon",
         [
          "Strong",
          "Strong",
          "Strong",
          "Strong"
         ]
        ],
        [
         "Charizard",
         [
          "Strong",
          "Strong",
          "Strong",
          "Strong"
         ]
        ],
        [
         "Squirtle",
         [
          "Weak",
          "Weak",
          "Strong",
          "Weak"
         ]
        ],
        [
         "Wartortle",
         [
          "Strong",
          "Strong",
          "Strong",
          "Strong"
         ]
        ],
        [
         "Blastoise",
         [
          "Strong",
          "Strong",
          "Strong",
          "Strong"
         ]
        ],
        [
         "Pikachu",
         [
          "Strong",
          "Weak",
          "Weak",
          "Strong"
         ]
        ]
       ],
       "datasetInfos": [],
       "dbfsResultPath": null,
       "isJsonSchema": true,
       "metadata": {
        "isDbfsCommandResult": false
       },
       "overflow": false,
       "plotOptions": {
        "customPlotOptions": {},
        "displayType": "table",
        "pivotAggregation": null,
        "pivotColumns": null,
        "xColumns": null,
        "yColumns": null
       },
       "removedWidgets": [],
       "schema": [
        {
         "metadata": "{}",
         "name": "name",
         "type": "\"string\""
        },
        {
         "metadata": "{}",
         "name": "h",
         "type": "{\"type\":\"array\",\"elementType\":\"string\",\"containsNull\":true}"
        }
       ],
       "type": "table"
      }
     },
     "output_type": "display_data"
    }
   ],
   "source": [
    "select name , \n",
    "transform(array(attack, hp, defense, speed), x -> case when x>=50 then 'Strong' when x<50 then 'Weak' else null end) as h\n",
    "from poke.pokemon_data\n",
    "limit 10"
   ]
  },
  {
   "cell_type": "markdown",
   "metadata": {
    "application/vnd.databricks.v1+cell": {
     "cellMetadata": {},
     "inputWidgets": {},
     "nuid": "cf6dbecb-bf44-4004-8b1f-14d916584a10",
     "showTitle": false,
     "tableResultSettingsMap": {},
     "title": ""
    }
   },
   "source": [
    "- Task 1: Combine Primary and Secondary Types into an Array\n",
    "- Transform the type1 and type2 columns into a single array of types."
   ]
  },
  {
   "cell_type": "code",
   "execution_count": 0,
   "metadata": {
    "application/vnd.databricks.v1+cell": {
     "cellMetadata": {
      "byteLimit": 2048000,
      "rowLimit": 10000
     },
     "inputWidgets": {},
     "nuid": "ba12d484-92fd-4a33-854e-1a06f6c1a35d",
     "showTitle": false,
     "tableResultSettingsMap": {},
     "title": ""
    }
   },
   "outputs": [
    {
     "output_type": "display_data",
     "data": {
      "text/html": [
       "<style scoped>\n",
       "  .table-result-container {\n",
       "    max-height: 300px;\n",
       "    overflow: auto;\n",
       "  }\n",
       "  table, th, td {\n",
       "    border: 1px solid black;\n",
       "    border-collapse: collapse;\n",
       "  }\n",
       "  th, td {\n",
       "    padding: 5px;\n",
       "  }\n",
       "  th {\n",
       "    text-align: left;\n",
       "  }\n",
       "</style><div class='table-result-container'><table class='table-result'><thead style='background-color: white'><tr><th>name</th><th>h</th></tr></thead><tbody><tr><td>Bulbasaur</td><td>List(Grass, Poison)</td></tr><tr><td>Ivysaur</td><td>List(Grass, Poison)</td></tr><tr><td>Venusaur</td><td>List(Grass, Poison)</td></tr><tr><td>Charmander</td><td>List(Fire, No Secondary Type)</td></tr><tr><td>Charmeleon</td><td>List(Fire, No Secondary Type)</td></tr><tr><td>Charizard</td><td>List(Fire, Flying)</td></tr><tr><td>Squirtle</td><td>List(Water, No Secondary Type)</td></tr><tr><td>Wartortle</td><td>List(Water, No Secondary Type)</td></tr><tr><td>Blastoise</td><td>List(Water, No Secondary Type)</td></tr><tr><td>Pikachu</td><td>List(Electric, No Secondary Type)</td></tr></tbody></table></div>"
      ]
     },
     "metadata": {
      "application/vnd.databricks.v1+output": {
       "addedWidgets": {},
       "aggData": [],
       "aggError": "",
       "aggOverflow": false,
       "aggSchema": [],
       "aggSeriesLimitReached": false,
       "aggType": "",
       "arguments": {},
       "columnCustomDisplayInfos": {},
       "data": [
        [
         "Bulbasaur",
         [
          "Grass",
          "Poison"
         ]
        ],
        [
         "Ivysaur",
         [
          "Grass",
          "Poison"
         ]
        ],
        [
         "Venusaur",
         [
          "Grass",
          "Poison"
         ]
        ],
        [
         "Charmander",
         [
          "Fire",
          "No Secondary Type"
         ]
        ],
        [
         "Charmeleon",
         [
          "Fire",
          "No Secondary Type"
         ]
        ],
        [
         "Charizard",
         [
          "Fire",
          "Flying"
         ]
        ],
        [
         "Squirtle",
         [
          "Water",
          "No Secondary Type"
         ]
        ],
        [
         "Wartortle",
         [
          "Water",
          "No Secondary Type"
         ]
        ],
        [
         "Blastoise",
         [
          "Water",
          "No Secondary Type"
         ]
        ],
        [
         "Pikachu",
         [
          "Electric",
          "No Secondary Type"
         ]
        ]
       ],
       "datasetInfos": [],
       "dbfsResultPath": null,
       "isJsonSchema": true,
       "metadata": {
        "isDbfsCommandResult": false
       },
       "overflow": false,
       "plotOptions": {
        "customPlotOptions": {},
        "displayType": "table",
        "pivotAggregation": null,
        "pivotColumns": null,
        "xColumns": null,
        "yColumns": null
       },
       "removedWidgets": [],
       "schema": [
        {
         "metadata": "{}",
         "name": "name",
         "type": "\"string\""
        },
        {
         "metadata": "{}",
         "name": "h",
         "type": "{\"type\":\"array\",\"elementType\":\"string\",\"containsNull\":true}"
        }
       ],
       "type": "table"
      }
     },
     "output_type": "display_data"
    }
   ],
   "source": [
    "select name , \n",
    "transform(array(type1, type2), x -> if(x is not null, x, 'No Secondary Type')) as h\n",
    "from poke.pokemon_data\n",
    "limit 10"
   ]
  },
  {
   "cell_type": "markdown",
   "metadata": {
    "application/vnd.databricks.v1+cell": {
     "cellMetadata": {},
     "inputWidgets": {},
     "nuid": "0c5cb38f-fbfb-4ae7-bd7d-902f0d541b2f",
     "showTitle": false,
     "tableResultSettingsMap": {},
     "title": ""
    }
   },
   "source": [
    "- Task 4: Adjust Stats Based on Region\n",
    "- Create an array of hp, attack, defense, and speed, and adjust each stat:\n",
    "- \n",
    "- Add 5 if the region is Kanto.\n",
    "- Add 10 if the region is something else (none in this dataset, but can handle future extensions)."
   ]
  },
  {
   "cell_type": "code",
   "execution_count": 0,
   "metadata": {
    "application/vnd.databricks.v1+cell": {
     "cellMetadata": {
      "byteLimit": 2048000,
      "rowLimit": 10000
     },
     "inputWidgets": {},
     "nuid": "c7ea5b75-5b9f-4a89-abca-6eb8280ea74c",
     "showTitle": false,
     "tableResultSettingsMap": {},
     "title": ""
    }
   },
   "outputs": [
    {
     "output_type": "display_data",
     "data": {
      "text/html": [
       "<style scoped>\n",
       "  .table-result-container {\n",
       "    max-height: 300px;\n",
       "    overflow: auto;\n",
       "  }\n",
       "  table, th, td {\n",
       "    border: 1px solid black;\n",
       "    border-collapse: collapse;\n",
       "  }\n",
       "  th, td {\n",
       "    padding: 5px;\n",
       "  }\n",
       "  th {\n",
       "    text-align: left;\n",
       "  }\n",
       "</style><div class='table-result-container'><table class='table-result'><thead style='background-color: white'><tr><th>hp</th><th>attack</th><th>defense</th><th>speed</th><th>region</th><th>h</th></tr></thead><tbody><tr><td>45</td><td>49</td><td>49</td><td>45</td><td>Kanto</td><td>List(50, 54, 54, 50)</td></tr><tr><td>60</td><td>62</td><td>63</td><td>60</td><td>Kanto</td><td>List(65, 67, 68, 65)</td></tr><tr><td>80</td><td>82</td><td>83</td><td>80</td><td>Kanto</td><td>List(85, 87, 88, 85)</td></tr><tr><td>39</td><td>52</td><td>43</td><td>65</td><td>Kanto</td><td>List(44, 57, 48, 70)</td></tr><tr><td>58</td><td>64</td><td>58</td><td>80</td><td>Kanto</td><td>List(63, 69, 63, 85)</td></tr></tbody></table></div>"
      ]
     },
     "metadata": {
      "application/vnd.databricks.v1+output": {
       "addedWidgets": {},
       "aggData": [],
       "aggError": "",
       "aggOverflow": false,
       "aggSchema": [],
       "aggSeriesLimitReached": false,
       "aggType": "",
       "arguments": {},
       "columnCustomDisplayInfos": {},
       "data": [
        [
         45,
         49,
         49,
         45,
         "Kanto",
         [
          50,
          54,
          54,
          50
         ]
        ],
        [
         60,
         62,
         63,
         60,
         "Kanto",
         [
          65,
          67,
          68,
          65
         ]
        ],
        [
         80,
         82,
         83,
         80,
         "Kanto",
         [
          85,
          87,
          88,
          85
         ]
        ],
        [
         39,
         52,
         43,
         65,
         "Kanto",
         [
          44,
          57,
          48,
          70
         ]
        ],
        [
         58,
         64,
         58,
         80,
         "Kanto",
         [
          63,
          69,
          63,
          85
         ]
        ]
       ],
       "datasetInfos": [],
       "dbfsResultPath": null,
       "isJsonSchema": true,
       "metadata": {
        "isDbfsCommandResult": false
       },
       "overflow": false,
       "plotOptions": {
        "customPlotOptions": {},
        "displayType": "table",
        "pivotAggregation": null,
        "pivotColumns": null,
        "xColumns": null,
        "yColumns": null
       },
       "removedWidgets": [],
       "schema": [
        {
         "metadata": "{}",
         "name": "hp",
         "type": "\"integer\""
        },
        {
         "metadata": "{}",
         "name": "attack",
         "type": "\"integer\""
        },
        {
         "metadata": "{}",
         "name": "defense",
         "type": "\"integer\""
        },
        {
         "metadata": "{}",
         "name": "speed",
         "type": "\"integer\""
        },
        {
         "metadata": "{}",
         "name": "region",
         "type": "\"string\""
        },
        {
         "metadata": "{}",
         "name": "h",
         "type": "{\"type\":\"array\",\"elementType\":\"integer\",\"containsNull\":true}"
        }
       ],
       "type": "table"
      }
     },
     "output_type": "display_data"
    }
   ],
   "source": [
    "select hp, attack, defense, speed, region, transform(array(hp, attack, defense, speed), x -> if(region='Kanto', x+5, x+10)) as h\n",
    "from poke.pokemon_data\n",
    "limit 5"
   ]
  },
  {
   "cell_type": "markdown",
   "metadata": {
    "application/vnd.databricks.v1+cell": {
     "cellMetadata": {},
     "inputWidgets": {},
     "nuid": "fb01f2d7-04fe-4f8a-99de-b2a13ee913cd",
     "showTitle": false,
     "tableResultSettingsMap": {},
     "title": ""
    }
   },
   "source": [
    "- Task 5: Double Speed if Secondary Type is NULL\n",
    "- Create an array of hp, attack, defense, and speed. Transform the array so that only the speed stat is doubled if the Pokémon doesn’t have a secondary type (type2 IS NULL)."
   ]
  },
  {
   "cell_type": "code",
   "execution_count": 0,
   "metadata": {
    "application/vnd.databricks.v1+cell": {
     "cellMetadata": {
      "byteLimit": 2048000,
      "rowLimit": 10000
     },
     "inputWidgets": {},
     "nuid": "131409e8-e201-4810-9443-adbfdcae9a99",
     "showTitle": false,
     "tableResultSettingsMap": {},
     "title": ""
    }
   },
   "outputs": [
    {
     "output_type": "display_data",
     "data": {
      "text/html": [
       "<style scoped>\n",
       "  .table-result-container {\n",
       "    max-height: 300px;\n",
       "    overflow: auto;\n",
       "  }\n",
       "  table, th, td {\n",
       "    border: 1px solid black;\n",
       "    border-collapse: collapse;\n",
       "  }\n",
       "  th, td {\n",
       "    padding: 5px;\n",
       "  }\n",
       "  th {\n",
       "    text-align: left;\n",
       "  }\n",
       "</style><div class='table-result-container'><table class='table-result'><thead style='background-color: white'><tr><th>attack</th><th>h</th></tr></thead><tbody><tr><td>49</td><td>List(null, 49, null, null)</td></tr><tr><td>62</td><td>List(null, 62, null, null)</td></tr><tr><td>82</td><td>List(null, 82, null, null)</td></tr><tr><td>52</td><td>List(null, 52, null, null)</td></tr><tr><td>64</td><td>List(null, 64, null, null)</td></tr></tbody></table></div>"
      ]
     },
     "metadata": {
      "application/vnd.databricks.v1+output": {
       "addedWidgets": {},
       "aggData": [],
       "aggError": "",
       "aggOverflow": false,
       "aggSchema": [],
       "aggSeriesLimitReached": false,
       "aggType": "",
       "arguments": {},
       "columnCustomDisplayInfos": {},
       "data": [
        [
         49,
         [
          null,
          49,
          null,
          null
         ]
        ],
        [
         62,
         [
          null,
          62,
          null,
          null
         ]
        ],
        [
         82,
         [
          null,
          82,
          null,
          null
         ]
        ],
        [
         52,
         [
          null,
          52,
          null,
          null
         ]
        ],
        [
         64,
         [
          null,
          64,
          null,
          null
         ]
        ]
       ],
       "datasetInfos": [],
       "dbfsResultPath": null,
       "isJsonSchema": true,
       "metadata": {
        "isDbfsCommandResult": false
       },
       "overflow": false,
       "plotOptions": {
        "customPlotOptions": {},
        "displayType": "table",
        "pivotAggregation": null,
        "pivotColumns": null,
        "xColumns": null,
        "yColumns": null
       },
       "removedWidgets": [],
       "schema": [
        {
         "metadata": "{}",
         "name": "attack",
         "type": "\"integer\""
        },
        {
         "metadata": "{}",
         "name": "h",
         "type": "{\"type\":\"array\",\"elementType\":\"integer\",\"containsNull\":true}"
        }
       ],
       "type": "table"
      }
     },
     "output_type": "display_data"
    }
   ],
   "source": [
    "--indexing\n",
    "select attack,  transform(array(hp, attack, defense, speed), (x,i) -> if(i=1, x, null)) as h \n",
    "from poke.pokemon_data\n",
    "limit 5"
   ]
  },
  {
   "cell_type": "code",
   "execution_count": 0,
   "metadata": {
    "application/vnd.databricks.v1+cell": {
     "cellMetadata": {
      "byteLimit": 2048000,
      "rowLimit": 10000
     },
     "inputWidgets": {},
     "nuid": "1c7cf488-3e46-487a-ba89-680e6b7bb76c",
     "showTitle": false,
     "tableResultSettingsMap": {},
     "title": ""
    }
   },
   "outputs": [
    {
     "output_type": "display_data",
     "data": {
      "text/html": [
       "<style scoped>\n",
       "  .table-result-container {\n",
       "    max-height: 300px;\n",
       "    overflow: auto;\n",
       "  }\n",
       "  table, th, td {\n",
       "    border: 1px solid black;\n",
       "    border-collapse: collapse;\n",
       "  }\n",
       "  th, td {\n",
       "    padding: 5px;\n",
       "  }\n",
       "  th {\n",
       "    text-align: left;\n",
       "  }\n",
       "</style><div class='table-result-container'><table class='table-result'><thead style='background-color: white'><tr><th>type2</th><th>speed</th><th>speedx2</th></tr></thead><tbody><tr><td>Poison</td><td>45</td><td>List(45, 49, 49, 45)</td></tr><tr><td>Poison</td><td>60</td><td>List(60, 62, 63, 60)</td></tr><tr><td>Poison</td><td>80</td><td>List(80, 82, 83, 80)</td></tr><tr><td>null</td><td>65</td><td>List(39, 52, 43, 130)</td></tr><tr><td>null</td><td>80</td><td>List(58, 64, 58, 160)</td></tr><tr><td>Flying</td><td>100</td><td>List(78, 84, 78, 100)</td></tr><tr><td>null</td><td>43</td><td>List(44, 48, 65, 86)</td></tr><tr><td>null</td><td>58</td><td>List(59, 63, 80, 116)</td></tr><tr><td>null</td><td>78</td><td>List(79, 83, 100, 156)</td></tr><tr><td>null</td><td>90</td><td>List(35, 55, 40, 180)</td></tr></tbody></table></div>"
      ]
     },
     "metadata": {
      "application/vnd.databricks.v1+output": {
       "addedWidgets": {},
       "aggData": [],
       "aggError": "",
       "aggOverflow": false,
       "aggSchema": [],
       "aggSeriesLimitReached": false,
       "aggType": "",
       "arguments": {},
       "columnCustomDisplayInfos": {},
       "data": [
        [
         "Poison",
         45,
         [
          45,
          49,
          49,
          45
         ]
        ],
        [
         "Poison",
         60,
         [
          60,
          62,
          63,
          60
         ]
        ],
        [
         "Poison",
         80,
         [
          80,
          82,
          83,
          80
         ]
        ],
        [
         null,
         65,
         [
          39,
          52,
          43,
          130
         ]
        ],
        [
         null,
         80,
         [
          58,
          64,
          58,
          160
         ]
        ],
        [
         "Flying",
         100,
         [
          78,
          84,
          78,
          100
         ]
        ],
        [
         null,
         43,
         [
          44,
          48,
          65,
          86
         ]
        ],
        [
         null,
         58,
         [
          59,
          63,
          80,
          116
         ]
        ],
        [
         null,
         78,
         [
          79,
          83,
          100,
          156
         ]
        ],
        [
         null,
         90,
         [
          35,
          55,
          40,
          180
         ]
        ]
       ],
       "datasetInfos": [],
       "dbfsResultPath": null,
       "isJsonSchema": true,
       "metadata": {
        "isDbfsCommandResult": false
       },
       "overflow": false,
       "plotOptions": {
        "customPlotOptions": {},
        "displayType": "table",
        "pivotAggregation": null,
        "pivotColumns": null,
        "xColumns": null,
        "yColumns": null
       },
       "removedWidgets": [],
       "schema": [
        {
         "metadata": "{}",
         "name": "type2",
         "type": "\"string\""
        },
        {
         "metadata": "{}",
         "name": "speed",
         "type": "\"integer\""
        },
        {
         "metadata": "{}",
         "name": "speedx2",
         "type": "{\"type\":\"array\",\"elementType\":\"integer\",\"containsNull\":true}"
        }
       ],
       "type": "table"
      }
     },
     "output_type": "display_data"
    }
   ],
   "source": [
    "select type2, speed, \n",
    "  transform(array(hp, attack, defense, speed), (x,i) -> if(type2 is null and i=3, x*2, x)) as speedx2\n",
    "from poke.pokemon_data\n",
    "limit 10"
   ]
  },
  {
   "cell_type": "markdown",
   "metadata": {
    "application/vnd.databricks.v1+cell": {
     "cellMetadata": {},
     "inputWidgets": {},
     "nuid": "68598a45-4ac6-492d-a09d-c8a2ac842810",
     "showTitle": false,
     "tableResultSettingsMap": {},
     "title": ""
    }
   },
   "source": [
    "- Task 6: Cap All Stats at 70\n",
    "- Create an array of hp, attack, defense, and speed, and transform it by capping each stat at 70. If the stat is greater than 70, replace it with 70."
   ]
  },
  {
   "cell_type": "code",
   "execution_count": 0,
   "metadata": {
    "application/vnd.databricks.v1+cell": {
     "cellMetadata": {
      "byteLimit": 2048000,
      "rowLimit": 10000
     },
     "inputWidgets": {},
     "nuid": "f3fd1d08-3194-415c-80c3-62ff2e300d99",
     "showTitle": false,
     "tableResultSettingsMap": {},
     "title": ""
    }
   },
   "outputs": [
    {
     "output_type": "display_data",
     "data": {
      "text/html": [
       "<style scoped>\n",
       "  .table-result-container {\n",
       "    max-height: 300px;\n",
       "    overflow: auto;\n",
       "  }\n",
       "  table, th, td {\n",
       "    border: 1px solid black;\n",
       "    border-collapse: collapse;\n",
       "  }\n",
       "  th, td {\n",
       "    padding: 5px;\n",
       "  }\n",
       "  th {\n",
       "    text-align: left;\n",
       "  }\n",
       "</style><div class='table-result-container'><table class='table-result'><thead style='background-color: white'><tr><th>type2</th><th>speed</th><th>transform(array(hp, attack, defense, speed), lambdafunction((IF((namedlambdavariable() > 70), 70, namedlambdavariable())), namedlambdavariable()))</th></tr></thead><tbody><tr><td>Poison</td><td>45</td><td>List(45, 49, 49, 45)</td></tr><tr><td>Poison</td><td>60</td><td>List(60, 62, 63, 60)</td></tr><tr><td>Poison</td><td>80</td><td>List(70, 70, 70, 70)</td></tr><tr><td>null</td><td>65</td><td>List(39, 52, 43, 65)</td></tr><tr><td>null</td><td>80</td><td>List(58, 64, 58, 70)</td></tr><tr><td>Flying</td><td>100</td><td>List(70, 70, 70, 70)</td></tr><tr><td>null</td><td>43</td><td>List(44, 48, 65, 43)</td></tr><tr><td>null</td><td>58</td><td>List(59, 63, 70, 58)</td></tr><tr><td>null</td><td>78</td><td>List(70, 70, 70, 70)</td></tr><tr><td>null</td><td>90</td><td>List(35, 55, 40, 70)</td></tr></tbody></table></div>"
      ]
     },
     "metadata": {
      "application/vnd.databricks.v1+output": {
       "addedWidgets": {},
       "aggData": [],
       "aggError": "",
       "aggOverflow": false,
       "aggSchema": [],
       "aggSeriesLimitReached": false,
       "aggType": "",
       "arguments": {},
       "columnCustomDisplayInfos": {},
       "data": [
        [
         "Poison",
         45,
         [
          45,
          49,
          49,
          45
         ]
        ],
        [
         "Poison",
         60,
         [
          60,
          62,
          63,
          60
         ]
        ],
        [
         "Poison",
         80,
         [
          70,
          70,
          70,
          70
         ]
        ],
        [
         null,
         65,
         [
          39,
          52,
          43,
          65
         ]
        ],
        [
         null,
         80,
         [
          58,
          64,
          58,
          70
         ]
        ],
        [
         "Flying",
         100,
         [
          70,
          70,
          70,
          70
         ]
        ],
        [
         null,
         43,
         [
          44,
          48,
          65,
          43
         ]
        ],
        [
         null,
         58,
         [
          59,
          63,
          70,
          58
         ]
        ],
        [
         null,
         78,
         [
          70,
          70,
          70,
          70
         ]
        ],
        [
         null,
         90,
         [
          35,
          55,
          40,
          70
         ]
        ]
       ],
       "datasetInfos": [],
       "dbfsResultPath": null,
       "isJsonSchema": true,
       "metadata": {
        "isDbfsCommandResult": false
       },
       "overflow": false,
       "plotOptions": {
        "customPlotOptions": {},
        "displayType": "table",
        "pivotAggregation": null,
        "pivotColumns": null,
        "xColumns": null,
        "yColumns": null
       },
       "removedWidgets": [],
       "schema": [
        {
         "metadata": "{}",
         "name": "type2",
         "type": "\"string\""
        },
        {
         "metadata": "{}",
         "name": "speed",
         "type": "\"integer\""
        },
        {
         "metadata": "{\"__autoGeneratedAlias\":\"true\"}",
         "name": "transform(array(hp, attack, defense, speed), lambdafunction((IF((namedlambdavariable() > 70), 70, namedlambdavariable())), namedlambdavariable()))",
         "type": "{\"type\":\"array\",\"elementType\":\"integer\",\"containsNull\":true}"
        }
       ],
       "type": "table"
      }
     },
     "output_type": "display_data"
    }
   ],
   "source": [
    "select type2, speed, \n",
    "  transform(array(hp, attack, defense, speed), x -> if(x>70,70,x))\n",
    "from poke.pokemon_data\n",
    "limit 10"
   ]
  },
  {
   "cell_type": "code",
   "execution_count": 0,
   "metadata": {
    "application/vnd.databricks.v1+cell": {
     "cellMetadata": {
      "byteLimit": 2048000,
      "rowLimit": 10000
     },
     "inputWidgets": {},
     "nuid": "000df9e3-0100-4a24-bc69-ea9a313cf71f",
     "showTitle": false,
     "tableResultSettingsMap": {},
     "title": ""
    }
   },
   "outputs": [
    {
     "output_type": "display_data",
     "data": {
      "text/html": [
       "<style scoped>\n",
       "  .table-result-container {\n",
       "    max-height: 300px;\n",
       "    overflow: auto;\n",
       "  }\n",
       "  table, th, td {\n",
       "    border: 1px solid black;\n",
       "    border-collapse: collapse;\n",
       "  }\n",
       "  th, td {\n",
       "    padding: 5px;\n",
       "  }\n",
       "  th {\n",
       "    text-align: left;\n",
       "  }\n",
       "</style><div class='table-result-container'><table class='table-result'><thead style='background-color: white'><tr><th>pokemon_name</th><th>capped_stats</th></tr></thead><tbody><tr><td>Bulbasaur</td><td>List(45, 49, 49, 45)</td></tr><tr><td>Ivysaur</td><td>List(60, 62, 63, 60)</td></tr><tr><td>Venusaur</td><td>List(70, 70, 70, 70)</td></tr><tr><td>Charmander</td><td>List(39, 52, 43, 65)</td></tr><tr><td>Charmeleon</td><td>List(58, 64, 58, 70)</td></tr><tr><td>Charizard</td><td>List(70, 70, 70, 70)</td></tr><tr><td>Squirtle</td><td>List(44, 48, 65, 43)</td></tr><tr><td>Wartortle</td><td>List(59, 63, 70, 58)</td></tr><tr><td>Blastoise</td><td>List(70, 70, 70, 70)</td></tr><tr><td>Pikachu</td><td>List(35, 55, 40, 70)</td></tr><tr><td>Jigglypuff</td><td>List(70, 45, 20, 20)</td></tr><tr><td>Zubat</td><td>List(40, 45, 35, 55)</td></tr><tr><td>Golbat</td><td>List(70, 70, 70, 70)</td></tr><tr><td>Oddish</td><td>List(45, 50, 55, 30)</td></tr><tr><td>Gloom</td><td>List(60, 65, 70, 40)</td></tr><tr><td>Vileplume</td><td>List(70, 70, 70, 50)</td></tr></tbody></table></div>"
      ]
     },
     "metadata": {
      "application/vnd.databricks.v1+output": {
       "addedWidgets": {},
       "aggData": [],
       "aggError": "",
       "aggOverflow": false,
       "aggSchema": [],
       "aggSeriesLimitReached": false,
       "aggType": "",
       "arguments": {},
       "columnCustomDisplayInfos": {},
       "data": [
        [
         "Bulbasaur",
         [
          45,
          49,
          49,
          45
         ]
        ],
        [
         "Ivysaur",
         [
          60,
          62,
          63,
          60
         ]
        ],
        [
         "Venusaur",
         [
          70,
          70,
          70,
          70
         ]
        ],
        [
         "Charmander",
         [
          39,
          52,
          43,
          65
         ]
        ],
        [
         "Charmeleon",
         [
          58,
          64,
          58,
          70
         ]
        ],
        [
         "Charizard",
         [
          70,
          70,
          70,
          70
         ]
        ],
        [
         "Squirtle",
         [
          44,
          48,
          65,
          43
         ]
        ],
        [
         "Wartortle",
         [
          59,
          63,
          70,
          58
         ]
        ],
        [
         "Blastoise",
         [
          70,
          70,
          70,
          70
         ]
        ],
        [
         "Pikachu",
         [
          35,
          55,
          40,
          70
         ]
        ],
        [
         "Jigglypuff",
         [
          70,
          45,
          20,
          20
         ]
        ],
        [
         "Zubat",
         [
          40,
          45,
          35,
          55
         ]
        ],
        [
         "Golbat",
         [
          70,
          70,
          70,
          70
         ]
        ],
        [
         "Oddish",
         [
          45,
          50,
          55,
          30
         ]
        ],
        [
         "Gloom",
         [
          60,
          65,
          70,
          40
         ]
        ],
        [
         "Vileplume",
         [
          70,
          70,
          70,
          50
         ]
        ]
       ],
       "datasetInfos": [],
       "dbfsResultPath": null,
       "isJsonSchema": true,
       "metadata": {
        "isDbfsCommandResult": false
       },
       "overflow": false,
       "plotOptions": {
        "customPlotOptions": {},
        "displayType": "table",
        "pivotAggregation": null,
        "pivotColumns": null,
        "xColumns": null,
        "yColumns": null
       },
       "removedWidgets": [],
       "schema": [
        {
         "metadata": "{}",
         "name": "pokemon_name",
         "type": "\"string\""
        },
        {
         "metadata": "{}",
         "name": "capped_stats",
         "type": "{\"type\":\"array\",\"elementType\":\"integer\",\"containsNull\":true}"
        }
       ],
       "type": "table"
      }
     },
     "output_type": "display_data"
    }
   ],
   "source": [
    "SELECT \n",
    "  name AS pokemon_name,\n",
    "  transform(array(hp, attack, defense, speed), x -> CASE WHEN x > 70 THEN 70 ELSE x END) AS capped_stats\n",
    "FROM poke.pokemon_data;"
   ]
  },
  {
   "cell_type": "code",
   "execution_count": 0,
   "metadata": {
    "application/vnd.databricks.v1+cell": {
     "cellMetadata": {},
     "inputWidgets": {},
     "nuid": "9a91aa49-e1cd-43b0-a359-8cc211c5eed7",
     "showTitle": false,
     "tableResultSettingsMap": {},
     "title": ""
    }
   },
   "outputs": [],
   "source": []
  }
 ],
 "metadata": {
  "application/vnd.databricks.v1+notebook": {
   "computePreferences": null,
   "dashboards": [],
   "environmentMetadata": {
    "base_environment": "",
    "client": "1"
   },
   "language": "sql",
   "notebookMetadata": {
    "pythonIndentUnit": 4
   },
   "notebookName": "sql filter transform",
   "widgets": {}
  },
  "language_info": {
   "name": "sql"
  }
 },
 "nbformat": 4,
 "nbformat_minor": 0
}
